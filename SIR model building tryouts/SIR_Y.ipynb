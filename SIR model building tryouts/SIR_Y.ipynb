{
 "cells": [
  {
   "cell_type": "code",
   "execution_count": 17,
   "metadata": {},
   "outputs": [],
   "source": [
    "import pandas as pd\n",
    "import seaborn as sns\n",
    "import matplotlib.pyplot\n",
    "covid_stats=pd.read_csv(\"covid-statistics-by-us-states-daily-updates.csv\")"
   ]
  },
  {
   "cell_type": "code",
   "execution_count": 18,
   "metadata": {},
   "outputs": [
    {
     "data": {
      "text/plain": [
       "Index(['Unnamed: 0', 'date', 'state', 'positive', 'negative', 'pending',\n",
       "       'hospitalizedcurrently', 'hospitalizedcumulative', 'inicucurrently',\n",
       "       'inicucumulative', 'onventilatorcurrently', 'onventilatorcumulative',\n",
       "       'recovered', 'dataqualitygrade', 'lastupdateet', 'datemodified',\n",
       "       'checktimeet', 'death', 'hospitalized', 'datechecked',\n",
       "       'totaltestsviral', 'positivetestsviral', 'negativetestsviral',\n",
       "       'positivecasesviral', 'deathconfirmed', 'deathprobable', 'fips',\n",
       "       'positiveincrease', 'negativeincrease', 'total', 'totaltestresults',\n",
       "       'totaltestresultsincrease', 'posneg', 'deathincrease',\n",
       "       'hospitalizedincrease', 'hash', 'commercialscore',\n",
       "       'negativeregularscore', 'negativescore', 'positivescore', 'score',\n",
       "       'grade'],\n",
       "      dtype='object')"
      ]
     },
     "execution_count": 18,
     "metadata": {},
     "output_type": "execute_result"
    }
   ],
   "source": [
    "covid_stats.columns"
   ]
  },
  {
   "cell_type": "code",
   "execution_count": 19,
   "metadata": {},
   "outputs": [],
   "source": [
    "covid_stats=covid_stats.drop(['Unnamed: 0', 'posneg', 'hash', 'commercialscore', 'negativeregularscore',\n",
    "                             'negativescore', 'positivescore', 'grade', 'score','dataqualitygrade',\n",
    "                              'lastupdateet', 'datemodified','checktimeet', 'datechecked', 'fips', 'hash',\n",
    "                              'commercialscore','negativeregularscore', 'negativescore', 'positivescore',\n",
    "                              'score', 'grade'], \n",
    "                             axis=1)"
   ]
  },
  {
   "cell_type": "code",
   "execution_count": 20,
   "metadata": {},
   "outputs": [
    {
     "data": {
      "text/plain": [
       "Index(['date', 'state', 'positive', 'negative', 'pending',\n",
       "       'hospitalizedcurrently', 'hospitalizedcumulative', 'inicucurrently',\n",
       "       'inicucumulative', 'onventilatorcurrently', 'onventilatorcumulative',\n",
       "       'recovered', 'death', 'hospitalized', 'totaltestsviral',\n",
       "       'positivetestsviral', 'negativetestsviral', 'positivecasesviral',\n",
       "       'deathconfirmed', 'deathprobable', 'positiveincrease',\n",
       "       'negativeincrease', 'total', 'totaltestresults',\n",
       "       'totaltestresultsincrease', 'deathincrease', 'hospitalizedincrease'],\n",
       "      dtype='object')"
      ]
     },
     "execution_count": 20,
     "metadata": {},
     "output_type": "execute_result"
    }
   ],
   "source": [
    "covid_stats.columns"
   ]
  },
  {
   "cell_type": "code",
   "execution_count": 21,
   "metadata": {},
   "outputs": [],
   "source": [
    "covid_stats=covid_stats[covid_stats.state=='NY']"
   ]
  },
  {
   "cell_type": "code",
   "execution_count": 22,
   "metadata": {},
   "outputs": [],
   "source": [
    "covid_stats=covid_stats.drop(['state'], axis=1)"
   ]
  },
  {
   "cell_type": "code",
   "execution_count": 23,
   "metadata": {
    "scrolled": true
   },
   "outputs": [
    {
     "data": {
      "text/plain": [
       "Index(['date', 'positive', 'negative', 'pending', 'hospitalizedcurrently',\n",
       "       'hospitalizedcumulative', 'inicucurrently', 'inicucumulative',\n",
       "       'onventilatorcurrently', 'onventilatorcumulative', 'recovered', 'death',\n",
       "       'hospitalized', 'totaltestsviral', 'positivetestsviral',\n",
       "       'negativetestsviral', 'positivecasesviral', 'deathconfirmed',\n",
       "       'deathprobable', 'positiveincrease', 'negativeincrease', 'total',\n",
       "       'totaltestresults', 'totaltestresultsincrease', 'deathincrease',\n",
       "       'hospitalizedincrease'],\n",
       "      dtype='object')"
      ]
     },
     "execution_count": 23,
     "metadata": {},
     "output_type": "execute_result"
    }
   ],
   "source": [
    "covid_stats.columns"
   ]
  },
  {
   "cell_type": "code",
   "execution_count": 24,
   "metadata": {
    "scrolled": true
   },
   "outputs": [],
   "source": [
    "covid_stats=covid_stats.sort_values(by=['date'])\n"
   ]
  },
  {
   "cell_type": "code",
   "execution_count": 25,
   "metadata": {},
   "outputs": [],
   "source": [
    "population = float(19453556)\n",
    "covid_stats['day_count'] = list(range(1,len(covid_stats)+1))"
   ]
  },
  {
   "cell_type": "code",
   "execution_count": 26,
   "metadata": {},
   "outputs": [
    {
     "data": {
      "text/html": [
       "<div>\n",
       "<style scoped>\n",
       "    .dataframe tbody tr th:only-of-type {\n",
       "        vertical-align: middle;\n",
       "    }\n",
       "\n",
       "    .dataframe tbody tr th {\n",
       "        vertical-align: top;\n",
       "    }\n",
       "\n",
       "    .dataframe thead th {\n",
       "        text-align: right;\n",
       "    }\n",
       "</style>\n",
       "<table border=\"1\" class=\"dataframe\">\n",
       "  <thead>\n",
       "    <tr style=\"text-align: right;\">\n",
       "      <th></th>\n",
       "      <th>date</th>\n",
       "      <th>positive</th>\n",
       "      <th>negative</th>\n",
       "      <th>pending</th>\n",
       "      <th>hospitalizedcurrently</th>\n",
       "      <th>hospitalizedcumulative</th>\n",
       "      <th>inicucurrently</th>\n",
       "      <th>inicucumulative</th>\n",
       "      <th>onventilatorcurrently</th>\n",
       "      <th>onventilatorcumulative</th>\n",
       "      <th>...</th>\n",
       "      <th>deathconfirmed</th>\n",
       "      <th>deathprobable</th>\n",
       "      <th>positiveincrease</th>\n",
       "      <th>negativeincrease</th>\n",
       "      <th>total</th>\n",
       "      <th>totaltestresults</th>\n",
       "      <th>totaltestresultsincrease</th>\n",
       "      <th>deathincrease</th>\n",
       "      <th>hospitalizedincrease</th>\n",
       "      <th>day_count</th>\n",
       "    </tr>\n",
       "  </thead>\n",
       "  <tbody>\n",
       "    <tr>\n",
       "      <th>8138</th>\n",
       "      <td>2020-03-04</td>\n",
       "      <td>6.0</td>\n",
       "      <td>48.0</td>\n",
       "      <td>24.0</td>\n",
       "      <td>NaN</td>\n",
       "      <td>NaN</td>\n",
       "      <td>NaN</td>\n",
       "      <td>NaN</td>\n",
       "      <td>NaN</td>\n",
       "      <td>NaN</td>\n",
       "      <td>...</td>\n",
       "      <td>0.0</td>\n",
       "      <td>NaN</td>\n",
       "      <td>0</td>\n",
       "      <td>0</td>\n",
       "      <td>78</td>\n",
       "      <td>54</td>\n",
       "      <td>0</td>\n",
       "      <td>0</td>\n",
       "      <td>0</td>\n",
       "      <td>1</td>\n",
       "    </tr>\n",
       "  </tbody>\n",
       "</table>\n",
       "<p>1 rows × 27 columns</p>\n",
       "</div>"
      ],
      "text/plain": [
       "            date  positive  negative  pending  hospitalizedcurrently  \\\n",
       "8138  2020-03-04       6.0      48.0     24.0                    NaN   \n",
       "\n",
       "      hospitalizedcumulative  inicucurrently  inicucumulative  \\\n",
       "8138                     NaN             NaN              NaN   \n",
       "\n",
       "      onventilatorcurrently  onventilatorcumulative  ...  deathconfirmed  \\\n",
       "8138                    NaN                     NaN  ...             0.0   \n",
       "\n",
       "      deathprobable  positiveincrease  negativeincrease  total  \\\n",
       "8138            NaN                 0                 0     78   \n",
       "\n",
       "      totaltestresults  totaltestresultsincrease  deathincrease  \\\n",
       "8138                54                         0              0   \n",
       "\n",
       "      hospitalizedincrease  day_count  \n",
       "8138                     0          1  \n",
       "\n",
       "[1 rows x 27 columns]"
      ]
     },
     "execution_count": 26,
     "metadata": {},
     "output_type": "execute_result"
    }
   ],
   "source": [
    "covid_stats[covid_stats['day_count']==1]"
   ]
  },
  {
   "cell_type": "code",
   "execution_count": 27,
   "metadata": {},
   "outputs": [
    {
     "data": {
      "image/png": "[encoded data removed]",
      "text/plain": [
       "<Figure size 432x288 with 1 Axes>"
      ]
     },
     "metadata": {
      "needs_background": "light"
     },
     "output_type": "display_data"
    },
    {
     "name": "stdout",
     "output_type": "stream",
     "text": [
      "Optimal parameters: beta = 1.0  and gamma =  1.0\n"
     ]
    }
   ],
   "source": [
    "import numpy as np\n",
    "from scipy import integrate, optimize\n",
    "ydata = [i for i in covid_stats.positiveincrease]\n",
    "xdata = covid_stats.day_count\n",
    "ydata = np.array(ydata, dtype=float)\n",
    "xdata = np.array(xdata, dtype=float)\n",
    "\n",
    "N = population\n",
    "inf0 = ydata[0]\n",
    "sus0 = N - inf0\n",
    "rec0 = 0.0\n",
    "\n",
    "def sir_model(y, x, beta, gamma):\n",
    "    sus = -beta * y[0] * y[1] / N\n",
    "    rec = gamma * y[1]\n",
    "    inf = -(sus + rec)\n",
    "    return sus, inf, rec\n",
    "\n",
    "def fit_odeint(x, beta, gamma):\n",
    "    return integrate.odeint(sir_model, (sus0, inf0, rec0), x, args=(beta, gamma))[:,1]\n",
    "\n",
    "popt, pcov = optimize.curve_fit(fit_odeint, xdata, ydata)\n",
    "fitted = fit_odeint(xdata, *popt)\n",
    "\n",
    "plt.plot(xdata, ydata, 'o')\n",
    "plt.plot(xdata, fitted)\n",
    "plt.title(\"Fit of SIR model for New York infected cases\")\n",
    "plt.ylabel(\"Number of New cases\")\n",
    "plt.xlabel(\"Days\")\n",
    "plt.show()\n",
    "print(\"Optimal parameters: beta =\", popt[0], \" and gamma = \", popt[1])"
   ]
  },
  {
   "cell_type": "code",
   "execution_count": 16,
   "metadata": {},
   "outputs": [
    {
     "data": {
      "image/png": "[encoded data removed]",
      "text/plain": [
       "<Figure size 720x504 with 1 Axes>"
      ]
     },
     "metadata": {},
     "output_type": "display_data"
    }
   ],
   "source": [
    "import numpy as np\n",
    "from scipy.integrate import odeint\n",
    "import matplotlib.pyplot as plt\n",
    "\n",
    "# Total population, N.\n",
    "N = 19453556\n",
    "# Initial number of infected and recovered individuals, I0 and R0.\n",
    "I0, R0 = 1, 0\n",
    "# Everyone else, S0, is susceptible to infection initially.\n",
    "S0 = N - I0 - R0\n",
    "# Contact rate, beta, and mean recovery rate, gamma, (in 1/days).\n",
    "beta, gamma = 0.7, 0.2 \n",
    "# A grid of time points (in days)\n",
    "t = np.linspace(0, 148, 148, dtype=int)\n",
    "\n",
    "# The SIR model differential equations.\n",
    "def deriv(y, t, N, beta, gamma):\n",
    "    S, I, R = y\n",
    "    dSdt = -beta * S * I / N\n",
    "    dIdt = beta * S * I / N - gamma * I\n",
    "    dRdt = gamma * I\n",
    "    return dSdt, dIdt, dRdt\n",
    "\n",
    "# Initial conditions vector\n",
    "y0 = S0, I0, R0\n",
    "# Integrate the SIR equations over the time grid, t.\n",
    "ret = odeint(deriv, y0, t, args=(N, beta, gamma))\n",
    "S, I, R = ret.T\n",
    "\n",
    "# Plot the data on three separate curves for S(t), I(t) and R(t)\n",
    "fig = plt.figure(facecolor='w')\n",
    "ax = fig.add_subplot(111, facecolor='#dddddd', axisbelow=True)\n",
    "ax.plot(t, S/1000, 'b', alpha=0.5, lw=2, label='Susceptible')\n",
    "ax.plot(t, I/1000, 'r', alpha=0.5, lw=2, label='Infected')\n",
    "ax.plot(t, R/1000, 'g', alpha=0.5, lw=2, label='Recovered with immunity')\n",
    "ax.set_xlabel('Time /days')\n",
    "ax.set_ylabel('Number in Thousands ')\n",
    "ax.set_title('COVID-19 Forecast in New York')\n",
    "#ax.set_ylim(0,1.2)\n",
    "ax.yaxis.set_tick_params(length=0)\n",
    "ax.xaxis.set_tick_params(length=0)\n",
    "ax.grid(b=True, which='major', c='w', lw=2, ls='-')\n",
    "legend = ax.legend()\n",
    "legend.get_frame().set_alpha(0.5)\n",
    "for spine in ('top', 'right', 'bottom', 'left'):\n",
    "    ax.spines[spine].set_visible(False)\n",
    "fig.set_size_inches(10, 7)    \n",
    "plt.show()"
   ]
  },
  {
   "cell_type": "code",
   "execution_count": null,
   "metadata": {},
   "outputs": [],
   "source": []
  }
 ],
 "metadata": {
  "kernelspec": {
   "display_name": "Python 3",
   "language": "python",
   "name": "python3"
  },
  "language_info": {
   "codemirror_mode": {
    "name": "ipython",
    "version": 3
   },
   "file_extension": ".py",
   "mimetype": "text/x-python",
   "name": "python",
   "nbconvert_exporter": "python",
   "pygments_lexer": "ipython3",
   "version": "3.7.3"
  }
 },
 "nbformat": 4,
 "nbformat_minor": 2
}
